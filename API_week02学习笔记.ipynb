{
 "cells": [
  {
   "cell_type": "markdown",
   "metadata": {},
   "source": [
    "## Azure 人脸识别尝试"
   ]
  },
  {
   "cell_type": "markdown",
   "metadata": {},
   "source": [
    "### 导入requests模块"
   ]
  },
  {
   "cell_type": "code",
   "execution_count": 36,
   "metadata": {},
   "outputs": [],
   "source": [
    "import requests\n",
    "import json"
   ]
  },
  {
   "cell_type": "markdown",
   "metadata": {},
   "source": [
    "### 输入订阅密钥"
   ]
  },
  {
   "cell_type": "code",
   "execution_count": 40,
   "metadata": {},
   "outputs": [],
   "source": [
    "KEY=\"3f2f404d2400481ea6cf715986a588d2\"#\n",
    "     "
   ]
  },
  {
   "cell_type": "markdown",
   "metadata": {},
   "source": [
    "### 设置请求头部"
   ]
  },
  {
   "cell_type": "code",
   "execution_count": 41,
   "metadata": {},
   "outputs": [],
   "source": [
    "\n",
    "HEADERS={\n",
    "     # Request headers\n",
    "    'Content-Type': 'application/json',#发送到API的主体的媒体类型。\n",
    "    'Ocp-Apim-Subscription-Key': '{}'.format(KEY),#订阅密钥\n",
    "}"
   ]
  },
  {
   "cell_type": "markdown",
   "metadata": {},
   "source": [
    "### 请求的URL"
   ]
  },
  {
   "cell_type": "code",
   "execution_count": 44,
   "metadata": {
    "scrolled": false
   },
   "outputs": [
    {
     "data": {
      "text/plain": [
       "200"
      ]
     },
     "execution_count": 44,
     "metadata": {},
     "output_type": "execute_result"
    }
   ],
   "source": [
    "BASEURL =\"https://westcentralus.api.cognitive.microsoft.com/face/v1.0/detect\"\n",
    "img_url=\"https://wx1.sinaimg.cn/mw690/473fa942gy3gbp6f6zw83j20zk0rbk5x.jpg\"#照片url\n",
    "data = {\n",
    "    'url': '{}'.format(img_url),\n",
    "}\n",
    "payload = {\n",
    "    'returnFaceId': 'true',\n",
    "    'returnFaceLandmarks': 'flase',\n",
    "    'returnFaceAttributes': '{}'.format('age,gender,glasses'), \n",
    "}\n",
    "r = requests.post(BASEURL, data=json.dumps(data), params=payload, headers=HEADERS)\n",
    "\n",
    "r.status_code\n"
   ]
  },
  {
   "cell_type": "markdown",
   "metadata": {},
   "source": [
    "### 输出json格式"
   ]
  },
  {
   "cell_type": "code",
   "execution_count": 50,
   "metadata": {},
   "outputs": [
    {
     "data": {
      "text/plain": [
       "[{'faceId': '394613cb-693e-4a56-b0b1-99217bde55e9',\n",
       "  'faceRectangle': {'top': 101, 'left': 50, 'width': 228, 'height': 228},\n",
       "  'faceAttributes': {'gender': 'male', 'age': 23.0, 'glasses': 'NoGlasses'}}]"
      ]
     },
     "execution_count": 50,
     "metadata": {},
     "output_type": "execute_result"
    }
   ],
   "source": [
    "results= r.json()\n",
    "results"
   ]
  },
  {
   "cell_type": "code",
   "execution_count": 53,
   "metadata": {},
   "outputs": [
    {
     "data": {
      "text/html": [
       "<img src=\"https://wx1.sinaimg.cn/mw690/473fa942gy3gbp6f6zw83j20zk0rbk5x.jpg\" alt=\"\">"
      ],
      "text/plain": [
       "<IPython.core.display.HTML object>"
      ]
     },
     "metadata": {},
     "output_type": "display_data"
    }
   ],
   "source": [
    "from IPython.core.display import display,HTML   #使用ipython展示模块\n",
    "display(HTML('<img src=\"https://wx1.sinaimg.cn/mw690/473fa942gy3gbp6f6zw83j20zk0rbk5x.jpg\" alt=\"\">'))\n"
   ]
  },
  {
   "cell_type": "markdown",
   "metadata": {},
   "source": [
    "## Face++"
   ]
  },
  {
   "cell_type": "markdown",
   "metadata": {},
   "source": [
    "### 请求API"
   ]
  },
  {
   "cell_type": "code",
   "execution_count": 159,
   "metadata": {},
   "outputs": [
    {
     "name": "stdout",
     "output_type": "stream",
     "text": [
      "b'{\"request_id\":\"1585748221,d31c3c8f-11ba-42bb-abe1-7efde64c1214\",\"time_used\":226,\"faces\":[{\"face_token\":\"cb9b1a3134975d9dd0e426b34aa2b676\",\"face_rectangle\":{\"top\":141,\"left\":454,\"width\":64,\"height\":64},\"attributes\":{\"gender\":{\"value\":\"Male\"},\"age\":{\"value\":25},\"smile\":{\"value\":1.402,\"threshold\":50.000},\"emotion\":{\"anger\":0.021,\"disgust\":0.334,\"fear\":0.021,\"happiness\":0.021,\"neutral\":10.716,\"sadness\":88.655,\"surprise\":0.233}}},{\"face_token\":\"b8f018c346bb0fb9d341300581e4a68a\",\"face_rectangle\":{\"top\":145,\"left\":315,\"width\":64,\"height\":64},\"attributes\":{\"gender\":{\"value\":\"Male\"},\"age\":{\"value\":38},\"smile\":{\"value\":6.318,\"threshold\":50.000},\"emotion\":{\"anger\":0.011,\"disgust\":0.008,\"fear\":0.008,\"happiness\":0.023,\"neutral\":90.916,\"sadness\":8.786,\"surprise\":0.248}}},{\"face_token\":\"d2d7c74bd9f74fb5334c0ab4d320a293\",\"face_rectangle\":{\"top\":160,\"left\":87,\"width\":59,\"height\":59},\"attributes\":{\"gender\":{\"value\":\"Male\"},\"age\":{\"value\":36},\"smile\":{\"value\":0.786,\"threshold\":50.000},\"emotion\":{\"anger\":0.025,\"disgust\":0.066,\"fear\":0.002,\"happiness\":0.002,\"neutral\":99.883,\"sadness\":0.015,\"surprise\":0.008}}},{\"face_token\":\"c563488d42a26cc72730418007c6e0a1\",\"face_rectangle\":{\"top\":161,\"left\":193,\"width\":57,\"height\":57},\"attributes\":{\"gender\":{\"value\":\"Male\"},\"age\":{\"value\":47},\"smile\":{\"value\":89.048,\"threshold\":50.000},\"emotion\":{\"anger\":0.042,\"disgust\":0.182,\"fear\":0.017,\"happiness\":7.440,\"neutral\":0.693,\"sadness\":91.609,\"surprise\":0.017}}}],\"image_id\":\"EaF4G80Ma/uojtfqNpoNDA==\",\"face_num\":4}\\n'\n"
     ]
    }
   ],
   "source": [
    "# 1、先导入为们需要的模块\n",
    "import requests\n",
    "\n",
    "\n",
    "api_secret = \"80fhrksDXxTa1QyD9B5TwiBdZs3Fex4c\"\n",
    "# 2、输入我们API_Key\n",
    "api_key = '1JA4NVNqHlKIVqGtpG9S1jDewrEVSgy5'  # Replace with a valid Subscription Key here.\n",
    "\n",
    "\n",
    "# 3、目标url\n",
    "# 这里也可以使用本地图片 例如：filepath =\"image/tupian.jpg\"\n",
    "BASE_URL = 'https://api-cn.faceplusplus.com/facepp/v3/detect' \n",
    "img_url = 'https://wx2.sinaimg.cn/mw690/473fa942gy1gd2ibdciw9j218g0p0tgd.jpg'\n",
    "\n",
    "# 4、沿用API文档的示范代码,准备我们的headers和图片(数据)\n",
    "\n",
    "headers = {\n",
    "    'Content-Type': 'application/json',\n",
    "}\n",
    "\n",
    "# 5、准备symbol ? 后面的数据\n",
    "\n",
    "payload = {\n",
    "    \"image_url\":img_url,\n",
    "    'api_key': api_key,\n",
    "    'api_secret': api_secret,\n",
    "    'return_attributes':'gender,age,smiling,emotion', \n",
    "}\n",
    "\n",
    "#  6、requests发送我们请求\n",
    "r = requests.post(BASE_URL, params=payload, headers=headers)\n",
    "\n",
    "r.status_code\n",
    "print(r.content)"
   ]
  },
  {
   "cell_type": "markdown",
   "metadata": {},
   "source": [
    "### 输出json格式"
   ]
  },
  {
   "cell_type": "code",
   "execution_count": 161,
   "metadata": {
    "scrolled": true
   },
   "outputs": [
    {
     "name": "stdout",
     "output_type": "stream",
     "text": [
      "{'face_num': 4,\n",
      " 'faces': [{'attributes': {'age': {'value': 25},\n",
      "                           'emotion': {'anger': 0.021,\n",
      "                                       'disgust': 0.334,\n",
      "                                       'fear': 0.021,\n",
      "                                       'happiness': 0.021,\n",
      "                                       'neutral': 10.716,\n",
      "                                       'sadness': 88.655,\n",
      "                                       'surprise': 0.233},\n",
      "                           'gender': {'value': 'Male'},\n",
      "                           'smile': {'threshold': 50.0, 'value': 1.402}},\n",
      "            'face_rectangle': {'height': 64,\n",
      "                               'left': 454,\n",
      "                               'top': 141,\n",
      "                               'width': 64},\n",
      "            'face_token': 'cb9b1a3134975d9dd0e426b34aa2b676'},\n",
      "           {'attributes': {'age': {'value': 38},\n",
      "                           'emotion': {'anger': 0.011,\n",
      "                                       'disgust': 0.008,\n",
      "                                       'fear': 0.008,\n",
      "                                       'happiness': 0.023,\n",
      "                                       'neutral': 90.916,\n",
      "                                       'sadness': 8.786,\n",
      "                                       'surprise': 0.248},\n",
      "                           'gender': {'value': 'Male'},\n",
      "                           'smile': {'threshold': 50.0, 'value': 6.318}},\n",
      "            'face_rectangle': {'height': 64,\n",
      "                               'left': 315,\n",
      "                               'top': 145,\n",
      "                               'width': 64},\n",
      "            'face_token': 'b8f018c346bb0fb9d341300581e4a68a'},\n",
      "           {'attributes': {'age': {'value': 36},\n",
      "                           'emotion': {'anger': 0.025,\n",
      "                                       'disgust': 0.066,\n",
      "                                       'fear': 0.002,\n",
      "                                       'happiness': 0.002,\n",
      "                                       'neutral': 99.883,\n",
      "                                       'sadness': 0.015,\n",
      "                                       'surprise': 0.008},\n",
      "                           'gender': {'value': 'Male'},\n",
      "                           'smile': {'threshold': 50.0, 'value': 0.786}},\n",
      "            'face_rectangle': {'height': 59,\n",
      "                               'left': 87,\n",
      "                               'top': 160,\n",
      "                               'width': 59},\n",
      "            'face_token': 'd2d7c74bd9f74fb5334c0ab4d320a293'},\n",
      "           {'attributes': {'age': {'value': 47},\n",
      "                           'emotion': {'anger': 0.042,\n",
      "                                       'disgust': 0.182,\n",
      "                                       'fear': 0.017,\n",
      "                                       'happiness': 7.44,\n",
      "                                       'neutral': 0.693,\n",
      "                                       'sadness': 91.609,\n",
      "                                       'surprise': 0.017},\n",
      "                           'gender': {'value': 'Male'},\n",
      "                           'smile': {'threshold': 50.0, 'value': 89.048}},\n",
      "            'face_rectangle': {'height': 57,\n",
      "                               'left': 193,\n",
      "                               'top': 161,\n",
      "                               'width': 57},\n",
      "            'face_token': 'c563488d42a26cc72730418007c6e0a1'}],\n",
      " 'image_id': 'EaF4G80Ma/uojtfqNpoNDA==',\n",
      " 'request_id': '1585748221,d31c3c8f-11ba-42bb-abe1-7efde64c1214',\n",
      " 'time_used': 226}\n"
     ]
    }
   ],
   "source": [
    "import pprint\n",
    "results = r.json()\n",
    "#results\n",
    "pprint.pprint(results)"
   ]
  },
  {
   "cell_type": "markdown",
   "metadata": {},
   "source": [
    "### 引用pandas对json数据进行表格化处理"
   ]
  },
  {
   "cell_type": "code",
   "execution_count": 160,
   "metadata": {},
   "outputs": [
    {
     "data": {
      "text/html": [
       "<div>\n",
       "<style scoped>\n",
       "    .dataframe tbody tr th:only-of-type {\n",
       "        vertical-align: middle;\n",
       "    }\n",
       "\n",
       "    .dataframe tbody tr th {\n",
       "        vertical-align: top;\n",
       "    }\n",
       "\n",
       "    .dataframe thead th {\n",
       "        text-align: right;\n",
       "    }\n",
       "</style>\n",
       "<table border=\"1\" class=\"dataframe\">\n",
       "  <thead>\n",
       "    <tr style=\"text-align: right;\">\n",
       "      <th></th>\n",
       "      <th>face_token</th>\n",
       "      <th>face_rectangle.top</th>\n",
       "      <th>face_rectangle.left</th>\n",
       "      <th>face_rectangle.width</th>\n",
       "      <th>face_rectangle.height</th>\n",
       "      <th>attributes.gender.value</th>\n",
       "      <th>attributes.age.value</th>\n",
       "      <th>attributes.smile.value</th>\n",
       "      <th>attributes.smile.threshold</th>\n",
       "      <th>attributes.emotion.anger</th>\n",
       "      <th>attributes.emotion.disgust</th>\n",
       "      <th>attributes.emotion.fear</th>\n",
       "      <th>attributes.emotion.happiness</th>\n",
       "      <th>attributes.emotion.neutral</th>\n",
       "      <th>attributes.emotion.sadness</th>\n",
       "      <th>attributes.emotion.surprise</th>\n",
       "    </tr>\n",
       "  </thead>\n",
       "  <tbody>\n",
       "    <tr>\n",
       "      <th>0</th>\n",
       "      <td>3564628a5f40ddf9049687f68e6e3e9c</td>\n",
       "      <td>141</td>\n",
       "      <td>454</td>\n",
       "      <td>64</td>\n",
       "      <td>64</td>\n",
       "      <td>Male</td>\n",
       "      <td>25</td>\n",
       "      <td>1.403</td>\n",
       "      <td>50.0</td>\n",
       "      <td>0.021</td>\n",
       "      <td>0.331</td>\n",
       "      <td>0.021</td>\n",
       "      <td>0.021</td>\n",
       "      <td>10.853</td>\n",
       "      <td>88.519</td>\n",
       "      <td>0.234</td>\n",
       "    </tr>\n",
       "    <tr>\n",
       "      <th>1</th>\n",
       "      <td>b486c9c553b5d725da3128e078ee508a</td>\n",
       "      <td>145</td>\n",
       "      <td>315</td>\n",
       "      <td>64</td>\n",
       "      <td>64</td>\n",
       "      <td>Male</td>\n",
       "      <td>38</td>\n",
       "      <td>6.336</td>\n",
       "      <td>50.0</td>\n",
       "      <td>0.011</td>\n",
       "      <td>0.008</td>\n",
       "      <td>0.008</td>\n",
       "      <td>0.023</td>\n",
       "      <td>90.980</td>\n",
       "      <td>8.725</td>\n",
       "      <td>0.246</td>\n",
       "    </tr>\n",
       "    <tr>\n",
       "      <th>2</th>\n",
       "      <td>ea712f3770ef7a3f3a965060c3f1e597</td>\n",
       "      <td>160</td>\n",
       "      <td>87</td>\n",
       "      <td>59</td>\n",
       "      <td>59</td>\n",
       "      <td>Male</td>\n",
       "      <td>36</td>\n",
       "      <td>0.792</td>\n",
       "      <td>50.0</td>\n",
       "      <td>0.025</td>\n",
       "      <td>0.064</td>\n",
       "      <td>0.002</td>\n",
       "      <td>0.002</td>\n",
       "      <td>99.886</td>\n",
       "      <td>0.015</td>\n",
       "      <td>0.007</td>\n",
       "    </tr>\n",
       "    <tr>\n",
       "      <th>3</th>\n",
       "      <td>dc082f64687055d6c71d71747d55b69f</td>\n",
       "      <td>161</td>\n",
       "      <td>193</td>\n",
       "      <td>57</td>\n",
       "      <td>57</td>\n",
       "      <td>Male</td>\n",
       "      <td>47</td>\n",
       "      <td>89.020</td>\n",
       "      <td>50.0</td>\n",
       "      <td>0.042</td>\n",
       "      <td>0.182</td>\n",
       "      <td>0.017</td>\n",
       "      <td>7.319</td>\n",
       "      <td>0.701</td>\n",
       "      <td>91.722</td>\n",
       "      <td>0.017</td>\n",
       "    </tr>\n",
       "  </tbody>\n",
       "</table>\n",
       "</div>"
      ],
      "text/plain": [
       "                         face_token  face_rectangle.top  face_rectangle.left  \\\n",
       "0  3564628a5f40ddf9049687f68e6e3e9c                 141                  454   \n",
       "1  b486c9c553b5d725da3128e078ee508a                 145                  315   \n",
       "2  ea712f3770ef7a3f3a965060c3f1e597                 160                   87   \n",
       "3  dc082f64687055d6c71d71747d55b69f                 161                  193   \n",
       "\n",
       "   face_rectangle.width  face_rectangle.height attributes.gender.value  \\\n",
       "0                    64                     64                    Male   \n",
       "1                    64                     64                    Male   \n",
       "2                    59                     59                    Male   \n",
       "3                    57                     57                    Male   \n",
       "\n",
       "   attributes.age.value  attributes.smile.value  attributes.smile.threshold  \\\n",
       "0                    25                   1.403                        50.0   \n",
       "1                    38                   6.336                        50.0   \n",
       "2                    36                   0.792                        50.0   \n",
       "3                    47                  89.020                        50.0   \n",
       "\n",
       "   attributes.emotion.anger  attributes.emotion.disgust  \\\n",
       "0                     0.021                       0.331   \n",
       "1                     0.011                       0.008   \n",
       "2                     0.025                       0.064   \n",
       "3                     0.042                       0.182   \n",
       "\n",
       "   attributes.emotion.fear  attributes.emotion.happiness  \\\n",
       "0                    0.021                         0.021   \n",
       "1                    0.008                         0.023   \n",
       "2                    0.002                         0.002   \n",
       "3                    0.017                         7.319   \n",
       "\n",
       "   attributes.emotion.neutral  attributes.emotion.sadness  \\\n",
       "0                      10.853                      88.519   \n",
       "1                      90.980                       8.725   \n",
       "2                      99.886                       0.015   \n",
       "3                       0.701                      91.722   \n",
       "\n",
       "   attributes.emotion.surprise  \n",
       "0                        0.234  \n",
       "1                        0.246  \n",
       "2                        0.007  \n",
       "3                        0.017  "
      ]
     },
     "execution_count": 160,
     "metadata": {},
     "output_type": "execute_result"
    }
   ],
   "source": [
    "from IPython.core.display import display,HTML   #使用ipython展示模块\n",
    "import pandas as pd\n",
    "df = pd.json_normalize(results,record_path='faces')\n",
    "\n",
    "df"
   ]
  },
  {
   "cell_type": "code",
   "execution_count": 162,
   "metadata": {},
   "outputs": [
    {
     "data": {
      "text/html": [
       "<img src=\"https://wx2.sinaimg.cn/mw690/473fa942gy1gd2ibdciw9j218g0p0tgd.jpg\" alt=\"\">"
      ],
      "text/plain": [
       "<IPython.core.display.HTML object>"
      ]
     },
     "metadata": {},
     "output_type": "display_data"
    }
   ],
   "source": [
    "#引用的原图\n",
    "display(HTML('<img src=\"https://wx2.sinaimg.cn/mw690/473fa942gy1gd2ibdciw9j218g0p0tgd.jpg\" alt=\"\">'))\n",
    "#df[[\"face_token\"_]]"
   ]
  },
  {
   "cell_type": "code",
   "execution_count": null,
   "metadata": {},
   "outputs": [],
   "source": []
  },
  {
   "cell_type": "markdown",
   "metadata": {},
   "source": []
  },
  {
   "cell_type": "code",
   "execution_count": null,
   "metadata": {},
   "outputs": [],
   "source": []
  },
  {
   "cell_type": "code",
   "execution_count": null,
   "metadata": {},
   "outputs": [],
   "source": []
  },
  {
   "cell_type": "code",
   "execution_count": null,
   "metadata": {},
   "outputs": [],
   "source": []
  },
  {
   "cell_type": "code",
   "execution_count": null,
   "metadata": {},
   "outputs": [],
   "source": []
  },
  {
   "cell_type": "code",
   "execution_count": null,
   "metadata": {},
   "outputs": [],
   "source": []
  },
  {
   "cell_type": "code",
   "execution_count": null,
   "metadata": {},
   "outputs": [],
   "source": []
  },
  {
   "cell_type": "code",
   "execution_count": null,
   "metadata": {},
   "outputs": [],
   "source": []
  },
  {
   "cell_type": "markdown",
   "metadata": {},
   "source": [
    "## 科大讯飞API\n"
   ]
  },
  {
   "cell_type": "markdown",
   "metadata": {},
   "source": [
    "### 人脸比对(使用Python的demo)"
   ]
  },
  {
   "cell_type": "code",
   "execution_count": 178,
   "metadata": {
    "scrolled": true
   },
   "outputs": [
    {
     "name": "stdout",
     "output_type": "stream",
     "text": [
      "{\"code\":\"0\",\"data\":0.41817,\"desc\":\"success\",\"sid\":\"wsr00084feb@dx14a911e0b45e6f2300\"}\n"
     ]
    }
   ],
   "source": [
    "# -*- coding: UTF-8 -*-\n",
    "import requests\n",
    "import time\n",
    "import json\n",
    "import hashlib\n",
    "import base64\n",
    "\n",
    "\n",
    "def main():\n",
    "    # 应用ID (必须为webapi类型应用，并开通人脸比对服务，参考帖子如何创建一个webapi应用：http://bbs.xfyun.cn/forum.php?mod=viewthread&tid=36481)\n",
    "    x_appid = '5e844085'\n",
    "    # 接口密钥(webapi类型应用开通人脸比对服务后，控制台--我的应用---人脸比对---相应服务的apikey)\n",
    "    api_key = 'b9b56d57fbc12e9fac5e9e377a8a83ae'\n",
    "    # webapi接口地址\n",
    "    url = 'http://api.xfyun.cn/v1/service/v1/image_identify/face_verification'\n",
    "    # 组装http请求头\n",
    "    x_time = str(int(time.time()))\n",
    "    param = {'auto_rotate': True}\n",
    "    param = json.dumps(param)\n",
    "    x_param = base64.b64encode(param.encode('utf-8'))\n",
    "    m2 = hashlib.md5()\n",
    "    m2.update(str(api_key + x_time + str(x_param, 'utf-8')).encode('utf-8'))\n",
    "    x_checksum = m2.hexdigest()\n",
    "    x_header = {\n",
    "        'X-Appid': x_appid,\n",
    "        'X-CurTime': x_time,\n",
    "        'X-CheckSum': x_checksum,\n",
    "        'X-Param': x_param,\n",
    "    }\n",
    "    # 对图片一和图片二base64编码\n",
    "    with open(\"C:/Users/ASUS/API/IMG_20180902_095508.jpg\", \"rb\") as f:\n",
    "        f1 = f.read()\n",
    "    with open(\"C:/Users/ASUS/API/IMG20150630203404.jpg\", \"rb\") as f:\n",
    "        f2 = f.read()\n",
    "    f1_base64 = str(base64.b64encode(f1), 'utf-8')\n",
    "    f2_base64 = str(base64.b64encode(f2), 'utf-8')\n",
    "    data = {\n",
    "        'first_image': f1_base64,\n",
    "        'second_image': f2_base64,\n",
    "    }\n",
    "    req = requests.post(url, data=data, headers=x_header)\n",
    "    result = str(req.content, 'utf-8')\n",
    "    print(result)\n",
    "    return result  # 错误码链接：https://www.xfyun.cn/document/error-code (code返回错误码时必看)\n",
    "    \n",
    "check=main()\n",
    "\n",
    "#f __name__ == '__main__':\n",
    " "
   ]
  },
  {
   "cell_type": "code",
   "execution_count": null,
   "metadata": {},
   "outputs": [],
   "source": []
  },
  {
   "cell_type": "markdown",
   "metadata": {},
   "source": [
    "### 人脸特征分析（测颜值）"
   ]
  },
  {
   "cell_type": "code",
   "execution_count": null,
   "metadata": {},
   "outputs": [],
   "source": []
  },
  {
   "cell_type": "code",
   "execution_count": 132,
   "metadata": {},
   "outputs": [
    {
     "name": "stdout",
     "output_type": "stream",
     "text": [
      "b'{\"code\":0,\"data\":{\"fileList\":[{\"label\":1,\"name\":\"https://wx1.sinaimg.cn/mw690/60da5d47ly1gb210tvol8j21sc2dshe0.jpg\",\"rate\":0.5066112875938416,\"review\":false,\"tag\":\"Using url\"}],\"reviewCount\":0,\"statistic\":[0,1,0,0,0,0]},\"desc\":\"success\",\"sid\":\"tup00000c5c@dx41a311dfd2761aba00\"}'\n"
     ]
    }
   ],
   "source": [
    "# -*- coding: utf-8 -*-\n",
    "import requests\n",
    "import time\n",
    "import hashlib\n",
    "import base64\n",
    "\"\"\" \n",
    "  人脸特征分析颜值WebAPI接口调用示例接口文档(必看)：https://doc.xfyun.cn/rest_api/%E4%BA%BA%E8%84%B8%E7%89%B9%E5%BE%81%E5%88%86%E6%9E%90-%E9%A2%9C%E5%80%BC.html\n",
    "  图片属性：png、jpg、jpeg、bmp、tif图片大小不超过800k\n",
    "  (Very Important)创建完webapi应用添加服务之后一定要设置ip白名单，找到控制台--我的应用--设置ip白名单，如何设置参考：http://bbs.xfyun.cn/forum.php?mod=viewthread&tid=41891\n",
    "  错误码链接：https://www.xfyun.cn/document/error-code (code返回错误码时必看)\n",
    "  @author iflytek\n",
    "\"\"\"\n",
    "# 人脸特征分析颜值webapi接口地址\n",
    "URL = \"http://tupapi.xfyun.cn/v1/face_score\"\n",
    "# 应用ID  (必须为webapi类型应用，并人脸特征分析服务，参考帖子如何创建一个webapi应用：http://bbs.xfyun.cn/forum.php?mod=viewthread&tid=36481)\n",
    "APPID = \"5e844085\"\n",
    "# 接口密钥 (webapi类型应用开通人脸特征分析服务后，控制台--我的应用---人脸特征分析---服务的apikey)\n",
    "API_KEY = \"f0d9fd8e7026e127e52adc87d528ac76\"\n",
    "ImageName = \"img.jpg\"\n",
    "ImageUrl = \"https://wx1.sinaimg.cn/mw690/60da5d47ly1gb210tvol8j21sc2dshe0.jpg\"\n",
    "# FilePath = r\"C:\\Users\\Admin\\Desktop\\1539656523.png\"\n",
    "# 图片数据可以通过两种方式上传，第一种在请求头设置image_url参数，第二种将图片二进制数据写入请求体中。若同时设置，以第一种为准。\n",
    "# 此demo使用第一种方式进行上传图片地址，如果想使用第二种方式，将图片二进制数据写入请求体即可。\n",
    "def getHeader(image_name, image_url=None):\n",
    "    curTime = str(int(time.time()))\n",
    "    param = \"{\\\"image_name\\\":\\\"\" + image_name + \"\\\",\\\"image_url\\\":\\\"\" + image_url + \"\\\"}\"\n",
    "    paramBase64 = base64.b64encode(param.encode('utf-8'))\n",
    "    tmp = str(paramBase64, 'utf-8')\n",
    "    m2 = hashlib.md5()\n",
    "    m2.update((API_KEY + curTime + tmp).encode('utf-8'))\n",
    "    checkSum = m2.hexdigest()\n",
    "\n",
    "    header = {\n",
    "        'X-CurTime': curTime,\n",
    "        'X-Param': paramBase64,\n",
    "        'X-Appid': APPID,\n",
    "        'X-CheckSum': checkSum,\n",
    "    }\n",
    "    return header\n",
    "\n",
    "\n",
    "# def getBody(filePath):\n",
    "#     binfile = open(filePath, 'rb')\n",
    "#     data = binfile.read()\n",
    "#     return data\n",
    "\n",
    "\n",
    "r = requests.post(URL, headers=getHeader(ImageName, ImageUrl))\n",
    "print(r.content)"
   ]
  },
  {
   "cell_type": "code",
   "execution_count": 133,
   "metadata": {},
   "outputs": [
    {
     "data": {
      "text/plain": [
       "{'code': 0,\n",
       " 'data': {'fileList': [{'label': 1,\n",
       "    'name': 'https://wx1.sinaimg.cn/mw690/60da5d47ly1gb210tvol8j21sc2dshe0.jpg',\n",
       "    'rate': 0.5066112875938416,\n",
       "    'review': False,\n",
       "    'tag': 'Using url'}],\n",
       "  'reviewCount': 0,\n",
       "  'statistic': [0, 1, 0, 0, 0, 0]},\n",
       " 'desc': 'success',\n",
       " 'sid': 'tup00000c5c@dx41a311dfd2761aba00'}"
      ]
     },
     "execution_count": 133,
     "metadata": {},
     "output_type": "execute_result"
    }
   ],
   "source": [
    "results=r.json()\n",
    "results"
   ]
  },
  {
   "cell_type": "markdown",
   "metadata": {},
   "source": [
    "#### 使用pandas模块对json数据进行表格化输出"
   ]
  },
  {
   "cell_type": "code",
   "execution_count": 134,
   "metadata": {},
   "outputs": [
    {
     "data": {
      "text/html": [
       "<div>\n",
       "<style scoped>\n",
       "    .dataframe tbody tr th:only-of-type {\n",
       "        vertical-align: middle;\n",
       "    }\n",
       "\n",
       "    .dataframe tbody tr th {\n",
       "        vertical-align: top;\n",
       "    }\n",
       "\n",
       "    .dataframe thead th {\n",
       "        text-align: right;\n",
       "    }\n",
       "</style>\n",
       "<table border=\"1\" class=\"dataframe\">\n",
       "  <thead>\n",
       "    <tr style=\"text-align: right;\">\n",
       "      <th></th>\n",
       "      <th>label</th>\n",
       "      <th>name</th>\n",
       "      <th>rate</th>\n",
       "      <th>review</th>\n",
       "      <th>tag</th>\n",
       "    </tr>\n",
       "  </thead>\n",
       "  <tbody>\n",
       "    <tr>\n",
       "      <th>0</th>\n",
       "      <td>1</td>\n",
       "      <td>https://wx1.sinaimg.cn/mw690/60da5d47ly1gb210t...</td>\n",
       "      <td>0.506611</td>\n",
       "      <td>False</td>\n",
       "      <td>Using url</td>\n",
       "    </tr>\n",
       "  </tbody>\n",
       "</table>\n",
       "</div>"
      ],
      "text/plain": [
       "   label                                               name      rate  review  \\\n",
       "0      1  https://wx1.sinaimg.cn/mw690/60da5d47ly1gb210t...  0.506611   False   \n",
       "\n",
       "         tag  \n",
       "0  Using url  "
      ]
     },
     "execution_count": 134,
     "metadata": {},
     "output_type": "execute_result"
    }
   ],
   "source": [
    "import pandas as pd\n",
    "df = pd.json_normalize(results,[\"data\",\"fileList\"])\n",
    "df\n",
    "#if label[0] == int(0):\n",
    "#   print(\"漂亮\")"
   ]
  },
  {
   "cell_type": "code",
   "execution_count": 135,
   "metadata": {},
   "outputs": [
    {
     "name": "stdout",
     "output_type": "stream",
     "text": [
      "看来你是很 好看\n"
     ]
    }
   ],
   "source": [
    "from IPython.core.display import display,HTML   #使用ipython展示模块\n",
    "beauty={\n",
    "    0:\"漂亮\",\n",
    "    1:\"好看\",\n",
    "    2:\"普通\",\n",
    "    3:\"难看\",\n",
    "    4:\"其他\",\n",
    "    5:\"半人脸\",\n",
    "    6:\"多人\"\n",
    "}\n",
    "handson= results[\"data\"][\"fileList\"][0][\"label\"]\n",
    "print(\"看来你是很\",beauty[handson])\n"
   ]
  },
  {
   "cell_type": "code",
   "execution_count": null,
   "metadata": {},
   "outputs": [],
   "source": []
  },
  {
   "cell_type": "code",
   "execution_count": null,
   "metadata": {},
   "outputs": [],
   "source": []
  }
 ],
 "metadata": {
  "kernelspec": {
   "display_name": "Python 3",
   "language": "python",
   "name": "python3"
  },
  "language_info": {
   "codemirror_mode": {
    "name": "ipython",
    "version": 3
   },
   "file_extension": ".py",
   "mimetype": "text/x-python",
   "name": "python",
   "nbconvert_exporter": "python",
   "pygments_lexer": "ipython3",
   "version": "3.7.6"
  },
  "toc": {
   "base_numbering": 1,
   "nav_menu": {},
   "number_sections": true,
   "sideBar": true,
   "skip_h1_title": false,
   "title_cell": "Table of Contents",
   "title_sidebar": "Contents",
   "toc_cell": false,
   "toc_position": {
    "height": "calc(100% - 180px)",
    "left": "10px",
    "top": "150px",
    "width": "284.444px"
   },
   "toc_section_display": true,
   "toc_window_display": true
  }
 },
 "nbformat": 4,
 "nbformat_minor": 4
}
